{
 "cells": [
  {
   "cell_type": "code",
   "execution_count": 5,
   "metadata": {},
   "outputs": [],
   "source": [
    "import lxml.etree as etree\n",
    "import pandas as pd\n",
    "import os\n",
    "\n",
    "def analyze_xml(xml_root):\n",
    "    xmlns = '{http://www.nih.gov}'\n",
    "    tree = etree.parse(xml_root)\n",
    "    \n",
    "    if tree.findall(xmlns + 'readingSession') == []: return {}\n",
    "    \n",
    "    dcm_nodules = {}\n",
    "    \n",
    "    readingSession = tree.findall(xmlns + 'readingSession')\n",
    "    # print(\"readingSession:\",len(readingSession))\n",
    "    for doctor in readingSession:\n",
    "      if doctor.findall(xmlns + 'unblindedReadNodule') == []: return {}\n",
    "      Nodules = doctor.findall(xmlns + 'unblindedReadNodule')\n",
    "      # print(\"Nodules:\",len(Nodules))\n",
    "      for nodule in Nodules:\n",
    "        rois = nodule.findall(xmlns+'roi')\n",
    "        # print(\"rois:\",len(rois))\n",
    "        for roi in rois:\n",
    "          sop = roi.findall(xmlns+'imageSOP_UID')[0].text\n",
    "          edge_x = []\n",
    "          edge_y = []\n",
    "          points = roi.findall(xmlns+'edgeMap')\n",
    "          for point in points:\n",
    "            x = int(point.findall(xmlns + 'xCoord')[0].text)\n",
    "            y = int(point.findall(xmlns + 'yCoord')[0].text)\n",
    "            edge_x.append(x)\n",
    "            edge_y.append(y)\n",
    "          x_max,x_min,y_max,y_min = max(edge_x),min(edge_x),max(edge_y),min(edge_y)\n",
    "          edge = {}\n",
    "          edge[\"xmax\"] = x_max\n",
    "          edge[\"ymax\"] = y_max\n",
    "          edge[\"xmin\"] = x_min\n",
    "          edge[\"ymin\"] = y_min\n",
    "          if sop not in dcm_nodules:\n",
    "            dcm_nodules[sop] = [edge]\n",
    "          else:\n",
    "            dcm_nodules[sop].append(edge)\n",
    "    return dcm_nodules"
   ]
  },
  {
   "cell_type": "code",
   "execution_count": 8,
   "metadata": {},
   "outputs": [
    {
     "name": "stdout",
     "output_type": "stream",
     "text": [
      "{'1.3.6.1.4.1.14519.5.2.1.6279.6001.110383487652933113465768208719': [{'xmax': 328, 'ymax': 379, 'xmin': 299, 'ymin': 355}, {'xmax': 326, 'ymax': 374, 'xmin': 307, 'ymin': 359}, {'xmax': 328, 'ymax': 377, 'xmin': 304, 'ymin': 357}], '1.3.6.1.4.1.14519.5.2.1.6279.6001.499837844441581448374672853475': [{'xmax': 331, 'ymax': 386, 'xmin': 298, 'ymin': 346}, {'xmax': 330, 'ymax': 386, 'xmin': 299, 'ymin': 354}, {'xmax': 332, 'ymax': 386, 'xmin': 302, 'ymin': 351}, {'xmax': 335, 'ymax': 391, 'xmin': 301, 'ymin': 349}], '1.3.6.1.4.1.14519.5.2.1.6279.6001.299410838455281419536742634793': [{'xmax': 334, 'ymax': 387, 'xmin': 297, 'ymin': 346}, {'xmax': 340, 'ymax': 384, 'xmin': 298, 'ymin': 352}, {'xmax': 335, 'ymax': 386, 'xmin': 299, 'ymin': 348}, {'xmax': 334, 'ymax': 384, 'xmin': 299, 'ymin': 346}], '1.3.6.1.4.1.14519.5.2.1.6279.6001.824843590991776411530080688091': [{'xmax': 335, 'ymax': 385, 'xmin': 298, 'ymin': 340}, {'xmax': 334, 'ymax': 386, 'xmin': 298, 'ymin': 343}, {'xmax': 336, 'ymax': 385, 'xmin': 298, 'ymin': 343}, {'xmax': 334, 'ymax': 384, 'xmin': 298, 'ymin': 340}], '1.3.6.1.4.1.14519.5.2.1.6279.6001.297813206491522913194774892711': [{'xmax': 337, 'ymax': 389, 'xmin': 299, 'ymin': 346}, {'xmax': 334, 'ymax': 385, 'xmin': 301, 'ymin': 348}, {'xmax': 336, 'ymax': 388, 'xmin': 301, 'ymin': 347}, {'xmax': 335, 'ymax': 387, 'xmin': 300, 'ymin': 347}], '1.3.6.1.4.1.14519.5.2.1.6279.6001.261151233960269013402330853013': [{'xmax': 335, 'ymax': 385, 'xmin': 300, 'ymin': 349}, {'xmax': 334, 'ymax': 384, 'xmin': 302, 'ymin': 350}, {'xmax': 336, 'ymax': 383, 'xmin': 301, 'ymin': 350}, {'xmax': 336, 'ymax': 383, 'xmin': 301, 'ymin': 350}], '1.3.6.1.4.1.14519.5.2.1.6279.6001.202709423777326615340853838834': [{'xmax': 334, 'ymax': 382, 'xmin': 301, 'ymin': 351}, {'xmax': 334, 'ymax': 379, 'xmin': 303, 'ymin': 354}, {'xmax': 335, 'ymax': 381, 'xmin': 302, 'ymin': 354}, {'xmax': 335, 'ymax': 381, 'xmin': 302, 'ymin': 354}], '1.3.6.1.4.1.14519.5.2.1.6279.6001.281416679065036634264586513142': [{'xmax': 329, 'ymax': 384, 'xmin': 302, 'ymin': 351}, {'xmax': 326, 'ymax': 378, 'xmin': 302, 'ymin': 355}, {'xmax': 328, 'ymax': 381, 'xmin': 304, 'ymin': 353}, {'xmax': 334, 'ymax': 380, 'xmin': 305, 'ymin': 354}], '1.3.6.1.4.1.14519.5.2.1.6279.6001.313544823773855097029348077255': [{'xmax': 187, 'ymax': 166, 'xmin': 187, 'ymin': 166}, {'xmax': 189, 'ymax': 167, 'xmin': 189, 'ymin': 167}, {'xmax': 188, 'ymax': 166, 'xmin': 188, 'ymin': 166}], '1.3.6.1.4.1.14519.5.2.1.6279.6001.315606855383999143703852453142': [{'xmax': 403, 'ymax': 272, 'xmin': 403, 'ymin': 272}, {'xmax': 392, 'ymax': 317, 'xmin': 392, 'ymin': 317}, {'xmax': 392, 'ymax': 317, 'xmin': 392, 'ymin': 317}, {'xmax': 404, 'ymax': 273, 'xmin': 404, 'ymin': 273}, {'xmax': 392, 'ymax': 316, 'xmin': 392, 'ymin': 316}, {'xmax': 403, 'ymax': 272, 'xmin': 403, 'ymin': 272}], '1.3.6.1.4.1.14519.5.2.1.6279.6001.257699431144088065312137256223': [{'xmax': 327, 'ymax': 370, 'xmin': 307, 'ymin': 361}]}\n"
     ]
    }
   ],
   "source": [
    "print(dcm_nodules)"
   ]
  },
  {
   "cell_type": "code",
   "execution_count": 6,
   "metadata": {},
   "outputs": [
    {
     "name": "stdout",
     "output_type": "stream",
     "text": [
      "readingSession: 4\n",
      "Nodules: 4\n",
      "rois: 8\n",
      "rois: 1\n",
      "rois: 1\n",
      "rois: 1\n",
      "Nodules: 1\n",
      "rois: 7\n",
      "Nodules: 4\n",
      "rois: 1\n",
      "rois: 1\n",
      "rois: 1\n",
      "rois: 8\n",
      "Nodules: 4\n",
      "rois: 9\n",
      "rois: 1\n",
      "rois: 1\n",
      "rois: 1\n"
     ]
    }
   ],
   "source": [
    "xml_root = \"../Data\\\\LIDC-IDRI-0001\\\\1.3.6.1.4.1.14519.5.2.1.6279.6001.298806137288633453246975630178\\\\000000\\\\069.xml\"\n",
    "dcm_nodules =  analyze_xml(xml_root)"
   ]
  },
  {
   "cell_type": "code",
   "execution_count": 7,
   "metadata": {},
   "outputs": [],
   "source": [
    "import json\n",
    "with open(\"data.json\", \"w\") as f:\n",
    "    json.dump(dcm_nodules, f)"
   ]
  },
  {
   "cell_type": "markdown",
   "metadata": {},
   "source": [
    "********\n",
    "gemini enhanced code"
   ]
  },
  {
   "cell_type": "code",
   "execution_count": null,
   "metadata": {},
   "outputs": [],
   "source": [
    "import xml.etree.ElementTree as ET\n",
    "import pandas as pd \n",
    "from tqdm import tqdm\n",
    "\n",
    "def analyze_xml(xml_root):\n",
    "  \"\"\"Parses an XML file and extracts data about unblinded read nodules.\n",
    "\n",
    "  Args:\n",
    "      xml_root (str): Path to the XML file.\n",
    "\n",
    "  Returns:\n",
    "      dict: A dictionary with SOP instance UIDs as keys and lists of edge\n",
    "            dictionaries (containing bounding box coordinates) as values.\n",
    "            If no relevant data is found, an empty dictionary is returned.\n",
    "  \"\"\"\n",
    "\n",
    "  xmlns = '{http://www.nih.gov}'\n",
    "  try:\n",
    "    tree = ET.parse(xml_root)\n",
    "  except FileNotFoundError:\n",
    "    print(f\"Error: XML file not found at '{xml_root}'.\")\n",
    "    return {}\n",
    "  except Exception as e:\n",
    "    print(f\"Error parsing XML: {e}\")\n",
    "    return {}\n",
    "\n",
    "  reading_sessions = tree.findall(xmlns + 'readingSession')\n",
    "  if not reading_sessions:\n",
    "    return {}\n",
    "\n",
    "  dcm_nodules = {}\n",
    "  for reading_session in reading_sessions:\n",
    "    unblinded_read_nodules = reading_session.findall(xmlns + 'unblindedReadNodule')\n",
    "    if not unblinded_read_nodules:\n",
    "      continue\n",
    "\n",
    "    for nodule in unblinded_read_nodules:\n",
    "      rois = nodule.findall(xmlns + 'roi')\n",
    "      for roi in rois:\n",
    "        sop = roi.findall(xmlns + 'imageSOP_UID')[0].text\n",
    "\n",
    "        edge_x = []\n",
    "        edge_y = []\n",
    "        for point in roi.findall(xmlns + 'edgeMap'):\n",
    "          try:\n",
    "            x = int(point.findall(xmlns + 'xCoord')[0].text)\n",
    "            y = int(point.findall(xmlns + 'yCoord')[0].text)\n",
    "          except ValueError:\n",
    "            print(f\"Warning: Invalid coordinates in ROI for SOP '{sop}'.\")\n",
    "            continue\n",
    "          edge_x.append(x)\n",
    "          edge_y.append(y)\n",
    "\n",
    "      if edge_x:\n",
    "        x_max, x_min, y_max, y_min = max(edge_x), min(edge_x), max(edge_y), min(edge_y)\n",
    "        edge = {\n",
    "          \"xmax\": x_max,\n",
    "          \"ymax\": y_max,\n",
    "          \"xmin\": x_min,\n",
    "          \"ymin\": y_min\n",
    "        }\n",
    "        if sop not in dcm_nodules:\n",
    "          dcm_nodules[sop] = [edge]\n",
    "        else:\n",
    "          dcm_nodules[sop].append(edge)\n",
    "\n",
    "    return dcm_nodules\n",
    "\n",
    "if __name__ =='__main__':\n",
    "  csv_root = '../datafile.csv'\n",
    "  df = pd.read_csv(csv_root)\n",
    "  df['target'] = None\n",
    "  xml_root = None\n",
    "  dcm_nodules = None\n",
    "  for index,row in tqdm(df.iterrows()):\n",
    "    if xml_root!=row['xml'] :\n",
    "      xml_root = row['xml']\n",
    "      dcm_nodules = analyze_xml(xml_root)\n",
    "      \n",
    "    sop = row['SOP']\n",
    "    if sop in dcm_nodules:\n",
    "      row['target'] = dcm_nodules[sop]\n",
    "    else:\n",
    "      row['target'] = None\n",
    "    df.iloc[index] = row\n",
    "  df.to_csv(csv_root,index=False)"
   ]
  }
 ],
 "metadata": {
  "kernelspec": {
   "display_name": "open_cv",
   "language": "python",
   "name": "python3"
  },
  "language_info": {
   "codemirror_mode": {
    "name": "ipython",
    "version": 3
   },
   "file_extension": ".py",
   "mimetype": "text/x-python",
   "name": "python",
   "nbconvert_exporter": "python",
   "pygments_lexer": "ipython3",
   "version": "3.9.19"
  }
 },
 "nbformat": 4,
 "nbformat_minor": 2
}
