{
 "cells": [
  {
   "cell_type": "code",
   "execution_count": 2,
   "metadata": {},
   "outputs": [],
   "source": [
    "import pandas as pd\n",
    "import pydicom\n",
    "import os\n",
    "\n",
    "# 读取CSV文件\n",
    "file_path = '../datafile.csv'  # 将your_file.csv替换为你的CSV文件路径\n",
    "df = pd.read_csv(file_path)\n",
    "\n",
    "df = df.iloc[:230000]\n",
    "\n",
    "# 定义获取SOPInstanceUID的函数\n",
    "def get_sop_instance_uid(dcm_path):\n",
    "    try:\n",
    "        ds = pydicom.dcmread(dcm_path)\n",
    "        return ds.SOPInstanceUID\n",
    "    except Exception as e:\n",
    "        print(f\"Error reading {dcm_path}: {e}\")\n",
    "        return None\n",
    "\n",
    "# 获取SOPInstanceUID并修改路径\n",
    "df['SOP'] = df['dicom'].apply(get_sop_instance_uid)\n",
    "df['Png'] = df['dicom'].apply(lambda x: x.replace('.dcm', '.png'))\n",
    "\n",
    "# 保存更新后的DataFrame到新的CSV文件\n",
    "new_file_path = '../updated_file.csv'  # 指定新的CSV文件路径\n",
    "df.to_csv(new_file_path, index=False)\n"
   ]
  }
 ],
 "metadata": {
  "kernelspec": {
   "display_name": "open_cv",
   "language": "python",
   "name": "python3"
  },
  "language_info": {
   "codemirror_mode": {
    "name": "ipython",
    "version": 3
   },
   "file_extension": ".py",
   "mimetype": "text/x-python",
   "name": "python",
   "nbconvert_exporter": "python",
   "pygments_lexer": "ipython3",
   "version": "3.9.19"
  }
 },
 "nbformat": 4,
 "nbformat_minor": 2
}
