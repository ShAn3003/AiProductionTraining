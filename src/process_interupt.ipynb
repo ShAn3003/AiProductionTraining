{
 "cells": [
  {
   "cell_type": "code",
   "execution_count": 2,
   "metadata": {},
   "outputs": [],
   "source": [
    "import pandas as pd\n",
    "import pydicom\n",
    "import os\n",
    "\n",
    "# 读取CSV文件\n",
    "file_path = '../datafile.csv'  # 将your_file.csv替换为你的CSV文件路径\n",
    "df = pd.read_csv(file_path)\n",
    "\n",
    "df = df.iloc[:230000]\n",
    "\n",
    "# 定义获取SOPInstanceUID的函数\n",
    "def get_sop_instance_uid(dcm_path):\n",
    "    try:\n",
    "        ds = pydicom.dcmread(dcm_path)\n",
    "        return ds.SOPInstanceUID\n",
    "    except Exception as e:\n",
    "        print(f\"Error reading {dcm_path}: {e}\")\n",
    "        return None\n",
    "\n",
    "# 获取SOPInstanceUID并修改路径\n",
    "df['SOP'] = df['dicom'].apply(get_sop_instance_uid)\n",
    "df['Png'] = df['dicom'].apply(lambda x: x.replace('.dcm', '.png'))\n",
    "\n",
    "# 保存更新后的DataFrame到新的CSV文件\n",
    "new_file_path = '../updated_file.csv'  # 指定新的CSV文件路径\n",
    "df.to_csv(new_file_path, index=False)\n"
   ]
  },
  {
   "cell_type": "code",
   "execution_count": 1,
   "metadata": {},
   "outputs": [
    {
     "name": "stderr",
     "output_type": "stream",
     "text": [
      "Deleting .png files: 100%|██████████| 110322/110322 [00:37<00:00, 2942.90it/s]\n"
     ]
    }
   ],
   "source": [
    "import os\n",
    "from tqdm import tqdm\n",
    "\n",
    "# 原始数据集路径\n",
    "data_dir = \"../yolo\"\n",
    "images_dir = os.path.join(data_dir, \"images\")\n",
    "\n",
    "# 获取所有 .png 文件名\n",
    "image_files = [f for f in os.listdir(images_dir) if f.endswith('.png')]\n",
    "\n",
    "# 删除所有 .png 文件并显示进度条\n",
    "for img_file in tqdm(image_files, desc=\"Deleting .png files\"):\n",
    "    img_path = os.path.join(images_dir, img_file)\n",
    "    try:\n",
    "        os.remove(img_path)\n",
    "        # 打印删除成功信息\n",
    "        # print(f\"Deleted {img_path}\")  # 可选，打印删除的文件路径\n",
    "    except Exception as e:\n",
    "        print(f\"Error deleting {img_path}: {e}\")\n"
   ]
  },
  {
   "cell_type": "code",
   "execution_count": 2,
   "metadata": {},
   "outputs": [
    {
     "name": "stderr",
     "output_type": "stream",
     "text": [
      "Deleting images: 100%|██████████| 110322/110322 [00:33<00:00, 3304.56it/s]\n",
      "Deleting labels: 100%|██████████| 110322/110322 [00:32<00:00, 3403.42it/s]\n"
     ]
    }
   ],
   "source": [
    "import os\n",
    "from tqdm import tqdm\n",
    "\n",
    "# 原始数据集路径\n",
    "data_dir = \"../yolo\"\n",
    "images_dir = os.path.join(data_dir, \"images\")\n",
    "labels_dir = os.path.join(data_dir, \"labels\")\n",
    "\n",
    "# 要删除的文件后缀\n",
    "suffixes = [f\"_aug_{i}\" for i in range(6)]\n",
    "\n",
    "# 删除 images 文件夹中的目标文件\n",
    "image_files = [f for f in os.listdir(images_dir) if any(f.endswith(f\"{suffix}.jpg\") for suffix in suffixes)]\n",
    "for img_file in tqdm(image_files, desc=\"Deleting images\"):\n",
    "    img_path = os.path.join(images_dir, img_file)\n",
    "    try:\n",
    "        os.remove(img_path)\n",
    "    except Exception as e:\n",
    "        print(f\"Error deleting {img_path}: {e}\")\n",
    "\n",
    "# 删除 labels 文件夹中的目标文件\n",
    "label_files = [f for f in os.listdir(labels_dir) if any(f.endswith(f\"{suffix}.txt\") for suffix in suffixes)]\n",
    "for lbl_file in tqdm(label_files, desc=\"Deleting labels\"):\n",
    "    lbl_path = os.path.join(labels_dir, lbl_file)\n",
    "    try:\n",
    "        os.remove(lbl_path)\n",
    "    except Exception as e:\n",
    "        print(f\"Error deleting {lbl_path}: {e}\")\n"
   ]
  },
  {
   "cell_type": "code",
   "execution_count": 2,
   "metadata": {},
   "outputs": [
    {
     "name": "stderr",
     "output_type": "stream",
     "text": [
      "Splitting dataset: 100%|██████████| 110322/110322 [07:25<00:00, 247.49it/s]\n"
     ]
    }
   ],
   "source": [
    "import random\n",
    "import os\n",
    "from tqdm import tqdm\n",
    "import shutil\n",
    "data_dir = \"../yolo\"\n",
    "# 临时增强数据集路径\n",
    "aug_images_dir = os.path.join(data_dir, \"augmented_images\")\n",
    "aug_labels_dir = os.path.join(data_dir, \"augmented_labels\")\n",
    "\n",
    "# 分割后的数据集路径\n",
    "train_dir = \"../augmented_yolo/train\"\n",
    "val_dir = \"../augmented_yolo/validation\"\n",
    "test_dir = \"../augmented_yolo/test\"\n",
    "augmented_images=[f for f in os.listdir(aug_images_dir) if f.endswith('.jpg')]\n",
    "# 随机分割数据集\n",
    "random.shuffle(augmented_images)\n",
    "train_split = int(0.7 * len(augmented_images))\n",
    "val_split = int(0.85 * len(augmented_images))\n",
    "# augmented_images里面保存的是什么？\n",
    "for i, img_file in enumerate(tqdm(augmented_images, desc=\"Splitting dataset\")):\n",
    "    src_img_path = os.path.join(aug_images_dir, img_file)\n",
    "    src_txt_path = os.path.join(aug_labels_dir, img_file.replace(\".jpg\",\".txt\"))\n",
    "    \n",
    "    if i < train_split:\n",
    "        dst_dir = train_dir\n",
    "    elif i < val_split:\n",
    "        dst_dir = val_dir\n",
    "    else:\n",
    "        dst_dir = test_dir\n",
    "        \n",
    "    try:\n",
    "        shutil.copy(src_img_path, os.path.join(dst_dir, \"images\", img_file))\n",
    "        shutil.copy(src_txt_path, os.path.join(dst_dir, \"labels\", img_file.replace('.jpg', '.txt')))\n",
    "    except Exception as e:\n",
    "        print(f\"Error copying {img_file}: {e}\")"
   ]
  },
  {
   "cell_type": "code",
   "execution_count": 1,
   "metadata": {},
   "outputs": [
    {
     "name": "stdout",
     "output_type": "stream",
     "text": [
      "110322\n"
     ]
    }
   ],
   "source": [
    "import os \n",
    "\n",
    "print(len(os.listdir(\"../yolo/augmented_labels\")))"
   ]
  },
  {
   "cell_type": "code",
   "execution_count": 2,
   "metadata": {},
   "outputs": [
    {
     "name": "stderr",
     "output_type": "stream",
     "text": [
      "Splitting dataset: 100%|██████████| 110322/110322 [07:46<00:00, 236.61it/s]\n"
     ]
    }
   ],
   "source": [
    "import os\n",
    "import random\n",
    "import shutil\n",
    "from tqdm import tqdm\n",
    "\n",
    "# 原始数据集路径\n",
    "data_dir = \"../yolo\"\n",
    "\n",
    "# 临时增强数据集路径\n",
    "aug_images_dir = os.path.join(data_dir, \"augmented_images\")\n",
    "aug_labels_dir = os.path.join(data_dir, \"augmented_labels\")\n",
    "\n",
    "# 分割后的数据集路径\n",
    "train_dir = \"../augmented_yolo_1/train\"\n",
    "val_dir = \"../augmented_yolo_1/validation\"\n",
    "test_dir = \"../augmented_yolo_1/test\"\n",
    "\n",
    "# 创建目标文件夹\n",
    "os.makedirs(aug_images_dir, exist_ok=True)\n",
    "os.makedirs(aug_labels_dir, exist_ok=True)\n",
    "os.makedirs(os.path.join(train_dir, \"images\"), exist_ok=True)\n",
    "os.makedirs(os.path.join(train_dir, \"labels\"), exist_ok=True)\n",
    "os.makedirs(os.path.join(val_dir, \"images\"), exist_ok=True)\n",
    "os.makedirs(os.path.join(val_dir, \"labels\"), exist_ok=True)\n",
    "os.makedirs(os.path.join(test_dir, \"images\"), exist_ok=True)\n",
    "os.makedirs(os.path.join(test_dir, \"labels\"), exist_ok=True)\n",
    "\n",
    "# 获取所有图片文件名\n",
    "augmented_images = [f for f in os.listdir(aug_images_dir) if f.endswith('.jpg')]\n",
    "\n",
    "# 随机分割数据集\n",
    "random.shuffle(augmented_images)\n",
    "train_split = int(0.7 * len(augmented_images))\n",
    "val_split = int(0.85 * len(augmented_images))\n",
    "# augmented_images里面保存的是什么？\n",
    "for i, img_file in enumerate(tqdm(augmented_images, desc=\"Splitting dataset\")):\n",
    "    src_img_path = os.path.join(aug_images_dir, img_file)\n",
    "    src_txt_path = os.path.join(aug_labels_dir, img_file.replace(\".jpg\",\".txt\"))\n",
    "    \n",
    "    if i < train_split:\n",
    "        dst_dir = train_dir\n",
    "    elif i < val_split:\n",
    "        dst_dir = val_dir\n",
    "    else:\n",
    "        dst_dir = test_dir\n",
    "        \n",
    "    try:\n",
    "        shutil.copy(src_img_path, os.path.join(dst_dir, \"images\", img_file))\n",
    "        shutil.copy(src_txt_path, os.path.join(dst_dir, \"labels\", img_file.replace('.jpg', '.txt')))\n",
    "    except Exception as e:\n",
    "        print(f\"Error copying {img_file}: {e}\")"
   ]
  }
 ],
 "metadata": {
  "kernelspec": {
   "display_name": "open_cv",
   "language": "python",
   "name": "python3"
  },
  "language_info": {
   "codemirror_mode": {
    "name": "ipython",
    "version": 3
   },
   "file_extension": ".py",
   "mimetype": "text/x-python",
   "name": "python",
   "nbconvert_exporter": "python",
   "pygments_lexer": "ipython3",
   "version": "3.9.19"
  }
 },
 "nbformat": 4,
 "nbformat_minor": 2
}
