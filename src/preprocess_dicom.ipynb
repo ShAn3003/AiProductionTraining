{
 "cells": [
  {
   "cell_type": "code",
   "execution_count": 1,
   "metadata": {},
   "outputs": [],
   "source": [
    "import os\n",
    "import pydicom\n",
    "import numpy as np\n",
    "import cv2\n",
    "from tqdm import tqdm\n",
    "from pydicom.pixel_data_handlers.util import apply_windowing\n",
    "import pandas as pd\n",
    "\n",
    "\n",
    "def is_dicom_file(filename):\n",
    "\n",
    "    #判断某文件是否是dicom格式的文件\n",
    "    file_stream = open(filename, 'rb')\n",
    "    file_stream.seek(128)\n",
    "    data = file_stream.read(4)\n",
    "    file_stream.close()\n",
    "    if data == b'DICM':\n",
    "        return True\n",
    "    return False\n",
    "  \n",
    "def linear_reflect(dcm_array,dcm_data):\n",
    "  slope = dcm_data.RescaleSlope\n",
    "  intercept = dcm_data.RescaleIntercept\n",
    "  \n",
    "  # set wc and ww by self wc(-450~-600) ww(1500,2000)\n",
    "  wc = dcm_data.WindowCenter\n",
    "  ww = dcm_data.WindowWidth\n",
    "\n",
    "  lowest = wc-ww/2\n",
    "  highest = wc+ww/2\n",
    "\n",
    "  \n",
    "  dcm_array = dcm_array*slope+intercept\n",
    "  \n",
    "  normalized_array = (dcm_array-dcm_array.min())/(dcm_array.max()-dcm_array.min())\n",
    "  \n",
    "  lowest = (lowest-dcm_array.min())/(dcm_array.max()-dcm_array.min())\n",
    "  highest = (highest-dcm_array.min())/(dcm_array.max()-dcm_array.min())\n",
    "  \n",
    "  # Directly set values outside the window to 0 (or desired background value)\n",
    "  normalized_array[normalized_array < lowest] = 0  # Set to black\n",
    "  normalized_array[normalized_array > highest] = 1  # Set to white (or desired max value)\n",
    "  \n",
    "  normalized_array = normalized_array*255\n",
    "  \n",
    "  return normalized_array\n",
    "  \n",
    "def reflection(dcm_array,dcm_data,key):\n",
    "  if key==1:\n",
    "    windowed_array = apply_windowing(dcm_array,dcm_data)\n",
    "    windowed_array = windowed_array-np.min(windowed_array)\n",
    "    windowed_array = windowed_array/np.max(windowed_array)*255\n",
    "    return windowed_array\n",
    "  elif key==2:\n",
    "    return linear_reflect(dcm_array,dcm_data)\n",
    "\n",
    "def save_as_png(png_dic,dcm_root,array):\n",
    "  dcm_name = os.path.basename(dcm_root)\n",
    "  name,ext = os.path.splitext(dcm_name)\n",
    "  if not os.path.exists(png_dic):\n",
    "    os.makedirs(png_dic)\n",
    "  cv2.imwrite(png_dic+'/'+name+\".png\",array)\n",
    "  return png_dic+'/'+name+\".png\"\n",
    "  \n",
    "def translate_single_dicom(dcm_root,png_root):\n",
    "  if not is_dicom_file(dcm_root):\n",
    "    return '-1'\n",
    "  \n",
    "  # Read the DICOM file\n",
    "  dcm_data = pydicom.read_file(dcm_root)\n",
    "  dcm_array = dcm_data.pixel_array\n",
    "  array = reflection(dcm_array,dcm_data,2)\n",
    "  return save_as_png(png_root,dcm_root,array)"
   ]
  },
  {
   "cell_type": "code",
   "execution_count": 2,
   "metadata": {},
   "outputs": [
    {
     "name": "stderr",
     "output_type": "stream",
     "text": [
      "0it [00:00, ?it/s]"
     ]
    },
    {
     "name": "stderr",
     "output_type": "stream",
     "text": [
      "135it [00:01, 80.96it/s]\n"
     ]
    }
   ],
   "source": [
    "if __name__ == \"__main__\":\n",
    "  csv_root = \"../datafile.csv\"\n",
    "\n",
    "  df = pd.read_csv(\"../datafile.csv\")\n",
    "  df['Png']='-1'\n",
    "  for index, row in tqdm(df.iterrows()):\n",
    "    dcm_root = row['target']\n",
    "    png_dir = dcm_root.replace(\"Data\", \"Png\")\n",
    "    png_dir = os.path.dirname(png_dir)\n",
    "    png_root = translate_single_dicom(dcm_root, png_dir)\n",
    "    row['Png'] = png_root\n",
    "    df.iloc[index] = row\n",
    "  # Save the modified DataFrame to CSV (assuming 'csv_root' is defined)\n",
    "  df.to_csv(csv_root, index=False)\n"
   ]
  },
  {
   "cell_type": "code",
   "execution_count": 2,
   "metadata": {},
   "outputs": [
    {
     "name": "stdout",
     "output_type": "stream",
     "text": [
      "Dataset.file_meta -------------------------------\n",
      "(0002, 0000) File Meta Information Group Length  UL: 194\n",
      "(0002, 0001) File Meta Information Version       OB: b'\\x00\\x01'\n",
      "(0002, 0002) Media Storage SOP Class UID         UI: CT Image Storage\n",
      "(0002, 0003) Media Storage SOP Instance UID      UI: 1.3.6.1.4.1.14519.5.2.1.6279.6001.189873581367743509083304574705\n",
      "(0002, 0010) Transfer Syntax UID                 UI: Explicit VR Little Endian\n",
      "(0002, 0012) Implementation Class UID            UI: 1.2.40.0.13.1.1\n",
      "(0002, 0013) Implementation Version Name         SH: 'dcm4che-1.4.27'\n",
      "-------------------------------------------------\n",
      "(0008, 0005) Specific Character Set              CS: 'ISO_IR 100'\n",
      "(0008, 0008) Image Type                          CS: ['ORIGINAL', 'PRIMARY', 'AXIAL']\n",
      "(0008, 0016) SOP Class UID                       UI: CT Image Storage\n",
      "(0008, 0018) SOP Instance UID                    UI: 1.3.6.1.4.1.14519.5.2.1.6279.6001.189873581367743509083304574705\n",
      "(0008, 0020) Study Date                          DA: '20000101'\n",
      "(0008, 0021) Series Date                         DA: '20000101'\n",
      "(0008, 0022) Acquisition Date                    DA: '20000101'\n",
      "(0008, 0023) Content Date                        DA: '20000101'\n",
      "(0008, 0024) Overlay Date                        DA: '20000101'\n",
      "(0008, 0025) Curve Date                          DA: '20000101'\n",
      "(0008, 002a) Acquisition DateTime                DT: '20000101'\n",
      "(0008, 0030) Study Time                          TM: ''\n",
      "(0008, 0032) Acquisition Time                    TM: ''\n",
      "(0008, 0033) Content Time                        TM: ''\n",
      "(0008, 0050) Accession Number                    SH: '2819497684894126'\n",
      "(0008, 0060) Modality                            CS: 'CT'\n",
      "(0008, 0070) Manufacturer                        LO: 'GE MEDICAL SYSTEMS'\n",
      "(0008, 0090) Referring Physician's Name          PN: ''\n",
      "(0008, 1090) Manufacturer's Model Name           LO: 'LightSpeed Plus'\n",
      "(0008, 1155) Referenced SOP Instance UID         UI: 1.3.6.1.4.1.14519.5.2.1.6279.6001.331437648765960227053882559480\n",
      "(0010, 0010) Patient's Name                      PN: ''\n",
      "(0010, 0020) Patient ID                          LO: 'LIDC-IDRI-0001'\n",
      "(0010, 0030) Patient's Birth Date                DA: ''\n",
      "(0010, 0040) Patient's Sex                       CS: ''\n",
      "(0010, 1010) Patient's Age                       AS: ''\n",
      "(0010, 21d0) Last Menstrual Date                 DA: '20000101'\n",
      "(0012, 0062) Patient Identity Removed            CS: 'YES'\n",
      "(0012, 0063) De-identification Method            LO: 'DCM:113100/113105/113107/113108/113109/113111'\n",
      "(0013, 0010) Private Creator                     LO: 'CTP'\n",
      "(0013, 1010) Private tag data                    UN: b'LIDC-IDRI\\x00'\n",
      "(0013, 1013) Private tag data                    UN: b'62796001'\n",
      "(0018, 0010) Contrast/Bolus Agent                LO: 'IV'\n",
      "(0018, 0015) Body Part Examined                  CS: 'CHEST'\n",
      "(0018, 0022) Scan Options                        CS: 'HELICAL MODE'\n",
      "(0018, 0050) Slice Thickness                     DS: '2.5'\n",
      "(0018, 0060) KVP                                 DS: '120.0'\n",
      "(0018, 0090) Data Collection Diameter            DS: '500.0'\n",
      "(0018, 1020) Software Versions                   LO: 'LightSpeedApps2.4.2_H2.4M5'\n",
      "(0018, 1100) Reconstruction Diameter             DS: '360.0'\n",
      "(0018, 1110) Distance Source to Detector         DS: '949.075012'\n",
      "(0018, 1111) Distance Source to Patient          DS: '541.0'\n",
      "(0018, 1120) Gantry/Detector Tilt                DS: '0.0'\n",
      "(0018, 1130) Table Height                        DS: '144.399994'\n",
      "(0018, 1140) Rotation Direction                  CS: 'CW'\n",
      "(0018, 1150) Exposure Time                       IS: '570'\n",
      "(0018, 1151) X-Ray Tube Current                  IS: '400'\n",
      "(0018, 1152) Exposure                            IS: '4684'\n",
      "(0018, 1160) Filter Type                         SH: 'BODY FILTER'\n",
      "(0018, 1170) Generator Power                     IS: '48000'\n",
      "(0018, 1190) Focal Spot(s)                       DS: '1.2'\n",
      "(0018, 1210) Convolution Kernel                  SH: 'STANDARD'\n",
      "(0018, 5100) Patient Position                    CS: 'FFS'\n",
      "(0020, 000d) Study Instance UID                  UI: 1.3.6.1.4.1.14519.5.2.1.6279.6001.298806137288633453246975630178\n",
      "(0020, 000e) Series Instance UID                 UI: 1.3.6.1.4.1.14519.5.2.1.6279.6001.179049373636438705059720603192\n",
      "(0020, 0010) Study ID                            SH: ''\n",
      "(0020, 0011) Series Number                       IS: '3000566'\n",
      "(0020, 0013) Instance Number                     IS: '119'\n",
      "(0020, 0032) Image Position (Patient)            DS: [-166.000000, -171.699997, -305.000000]\n",
      "(0020, 0037) Image Orientation (Patient)         DS: [1.000000, 0.000000, 0.000000, 0.000000, 1.000000, 0.000000]\n",
      "(0020, 0052) Frame of Reference UID              UI: 1.3.6.1.4.1.14519.5.2.1.6279.6001.160242933391460910065672874064\n",
      "(0020, 0200) Synchronization Frame of Reference  UI: 1.3.6.1.4.1.14519.5.2.1.6279.6001.322853776987330257810209979922\n",
      "(0020, 1040) Position Reference Indicator        LO: 'SN'\n",
      "(0020, 1041) Slice Location                      DS: '-305.0'\n",
      "(0028, 0002) Samples per Pixel                   US: 1\n",
      "(0028, 0004) Photometric Interpretation          CS: 'MONOCHROME2'\n",
      "(0028, 0010) Rows                                US: 512\n",
      "(0028, 0011) Columns                             US: 512\n",
      "(0028, 0030) Pixel Spacing                       DS: [0.703125, 0.703125]\n",
      "(0028, 0100) Bits Allocated                      US: 16\n",
      "(0028, 0101) Bits Stored                         US: 16\n",
      "(0028, 0102) High Bit                            US: 15\n",
      "(0028, 0103) Pixel Representation                US: 1\n",
      "(0028, 0120) Pixel Padding Value                 US: 63536\n",
      "(0028, 0303) Longitudinal Temporal Information M SH: 'MODIFIED'\n",
      "(0028, 1050) Window Center                       DS: '-600.0'\n",
      "(0028, 1051) Window Width                        DS: '1600.0'\n",
      "(0028, 1052) Rescale Intercept                   DS: '-1024.0'\n",
      "(0028, 1053) Rescale Slope                       DS: '1.0'\n",
      "(0038, 0020) Admitting Date                      DA: '20000101'\n",
      "(0040, 0002) Scheduled Procedure Step Start Date DA: '20000101'\n",
      "(0040, 0004) Scheduled Procedure Step End Date   DA: '20000101'\n",
      "(0040, 0244) Performed Procedure Step Start Date DA: '20000101'\n",
      "(0040, 2016) Placer Order Number / Imaging Servi LO: ''\n",
      "(0040, 2017) Filler Order Number / Imaging Servi LO: ''\n",
      "(0040, a075) Verifying Observer Name             PN: 'Removed by CTP'\n",
      "(0040, a123) Person Name                         PN: 'Removed by CTP'\n",
      "(0040, a124) UID                                 UI: 1.3.6.1.4.1.14519.5.2.1.6279.6001.310776504638544882089146220433\n",
      "(0070, 0084) Content Creator's Name              PN: ''\n",
      "(0088, 0140) Storage Media File-set UID          UI: 1.3.6.1.4.1.14519.5.2.1.6279.6001.187585417988337006711117237446\n",
      "(3006, 0024) Referenced Frame of Reference UID   UI: 1.3.6.1.4.1.14519.5.2.1.6279.6001.267784939160725776258446616312\n",
      "(3006, 00c2) Related Frame of Reference UID      UI: 1.3.6.1.4.1.14519.5.2.1.6279.6001.100454861506276636901149816500\n",
      "(7fe0, 0010) Pixel Data                          OW: Array of 524288 elements\n"
     ]
    }
   ],
   "source": [
    "print(dcm_data)"
   ]
  },
  {
   "cell_type": "markdown",
   "metadata": {},
   "source": [
    "*****\n",
    "Above is the best way to reveal the image"
   ]
  },
  {
   "cell_type": "code",
   "execution_count": null,
   "metadata": {},
   "outputs": [],
   "source": []
  },
  {
   "cell_type": "code",
   "execution_count": null,
   "metadata": {},
   "outputs": [],
   "source": []
  },
  {
   "cell_type": "code",
   "execution_count": null,
   "metadata": {},
   "outputs": [],
   "source": []
  },
  {
   "cell_type": "code",
   "execution_count": null,
   "metadata": {},
   "outputs": [],
   "source": []
  },
  {
   "cell_type": "code",
   "execution_count": 54,
   "metadata": {},
   "outputs": [],
   "source": [
    "# Extract the pixel array\n",
    "pixel_array = dcm_data.pixel_array\n",
    "\n",
    "# Get slope and intercept values (if available)\n",
    "# These are typically used for HU to intensity conversion\n",
    "try:\n",
    "  slope = dcm_data.RescaleSlope\n",
    "  intercept = dcm_data.RescaleIntercept\n",
    "except AttributeError:\n",
    "  print(\"Warning: RescaleSlope or RescaleIntercept not found in DICOM data. Using default values.\")\n",
    "  slope = 1  # Default assumption\n",
    "  intercept = 0  # Default assumption\n"
   ]
  },
  {
   "cell_type": "code",
   "execution_count": 59,
   "metadata": {},
   "outputs": [
    {
     "name": "stdout",
     "output_type": "stream",
     "text": [
      "1 -1024\n"
     ]
    }
   ],
   "source": [
    "print(slope,intercept)"
   ]
  },
  {
   "cell_type": "code",
   "execution_count": 56,
   "metadata": {},
   "outputs": [],
   "source": [
    "intensity_array = pixel_array * slope + intercept"
   ]
  },
  {
   "cell_type": "code",
   "execution_count": 57,
   "metadata": {},
   "outputs": [],
   "source": [
    "import numpy as np\n",
    "# Minimum and maximum intensity values (consider outliers)\n",
    "min_intensity = np.min(intensity_array)\n",
    "max_intensity = np.max(intensity_array)\n",
    "\n",
    "# Handle potential zero denominator (if all pixels have the same value)\n",
    "if min_intensity == max_intensity:\n",
    "  grayscale_array = np.full_like(intensity_array, 128, dtype=np.uint8)  # Set all to mid-gray\n",
    "else:\n",
    "  # Linear rescaling to 0-255 range\n",
    "  grayscale_array = (intensity_array - min_intensity) / (max_intensity - min_intensity) * 255\n",
    "  grayscale_array = grayscale_array.astype(np.uint8)  # Convert to uint8 for grayscale image\n"
   ]
  },
  {
   "cell_type": "code",
   "execution_count": 58,
   "metadata": {},
   "outputs": [
    {
     "data": {
      "text/plain": [
       "True"
      ]
     },
     "execution_count": 58,
     "metadata": {},
     "output_type": "execute_result"
    }
   ],
   "source": [
    "import cv2\n",
    "cv2.imwrite(\"../Png/test.png\",grayscale_array)"
   ]
  },
  {
   "cell_type": "code",
   "execution_count": 52,
   "metadata": {},
   "outputs": [
    {
     "name": "stderr",
     "output_type": "stream",
     "text": [
      "100%|██████████| 133/133 [00:00<00:00, 593.37it/s]\n"
     ]
    }
   ],
   "source": [
    "import os\n",
    "import SimpleITK\n",
    "import pydicom\n",
    "import numpy as np\n",
    "import cv2\n",
    "from tqdm import tqdm\n",
    "from pydicom.pixel_data_handlers.util import apply_voi_lut\n",
    "\n",
    "def is_dicom_file(filename):\n",
    "\n",
    "    #判断某文件是否是dicom格式的文件\n",
    "    file_stream = open(filename, 'rb')\n",
    "    file_stream.seek(128)\n",
    "    data = file_stream.read(4)\n",
    "    file_stream.close()\n",
    "    if data == b'DICM':\n",
    "        return True\n",
    "    return False\n",
    "\n",
    "def load_patient(src_dir):\n",
    "    '''\n",
    "    读取某文件夹内的所有dicom文件\n",
    "    :param src_dir: dicom文件夹路径\n",
    "    :return: dicom list\n",
    "    '''\n",
    "    files = os.listdir(src_dir)\n",
    "    slices = []\n",
    "    for s in files:\n",
    "        if is_dicom_file(src_dir + '/' + s):\n",
    "            instance = pydicom.read_file(src_dir + '/' + s)\n",
    "            slices.append(instance)\n",
    "\n",
    "    try:\n",
    "        slice_thickness = np.abs(slices[0].ImagePositionPatient[2] - slices[1].ImagePositionPatient[2])\n",
    "    except:\n",
    "        slice_thickness = np.abs(slices[0].SliceLocation - slices[1].SliceLocation)\n",
    "\n",
    "    for s in slices:\n",
    "        # s.pixel_array = apply_voi_lut(s.pixel_array,s)\n",
    "        s.SliceThickness = slice_thickness\n",
    "    return slices\n",
    "\n",
    "def get_pixels_hu_by_simpleitk(dicom_dir):\n",
    "    '''\n",
    "        读取某文件夹内的所有dicom文件\n",
    "    :param src_dir: dicom文件夹路径\n",
    "    :return: image array\n",
    "    '''\n",
    "    reader = SimpleITK.ImageSeriesReader()\n",
    "    dicom_names = reader.GetGDCMSeriesFileNames(dicom_dir)\n",
    "    reader.SetFileNames(dicom_names)\n",
    "    image = reader.Execute()\n",
    "    img_array = SimpleITK.GetArrayFromImage(image)\n",
    "    img_array[img_array == -2000] = 0\n",
    "    return img_array\n",
    "if __name__ == '__main__':\n",
    "\t#dicom文件目录\n",
    "    dicom_dir = '../Data\\\\LIDC-IDRI-0001\\\\1.3.6.1.4.1.14519.5.2.1.6279.6001.298806137288633453246975630178\\\\000000'\n",
    "    # 读取dicom文件的元数据(dicom tags)\n",
    "    # slices = load_patient(dicom_dir)\n",
    "    # print('The number of dicom files : ', len(slices))\n",
    "    # 提取dicom文件中的像素值\n",
    "    image = get_pixels_hu_by_simpleitk(dicom_dir)\n",
    "    for i in tqdm(range(image.shape[0])):\n",
    "    \t#输出png文件目录\n",
    "        img_path = \"../Png/img_\" + str(i).rjust(4, '0') + \".png\"\n",
    "        org_img =image[i]*20\n",
    "        # 保存图像数组\n",
    "        cv2.imwrite(img_path, org_img )"
   ]
  },
  {
   "cell_type": "code",
   "execution_count": null,
   "metadata": {},
   "outputs": [],
   "source": [
    "\n",
    "if __name__ == '__main__':\n",
    "\t#dicom文件目录\n",
    "    dicom_dir = 'dcm/'\n",
    "    # 读取dicom文件的元数据(dicom tags)\n",
    "    slices = load_patient(dicom_dir)\n",
    "    print('The number of dicom files : ', len(slices))\n",
    "    # 提取dicom文件中的像素值\n",
    "    image = get_pixels_hu_by_simpleitk(dicom_dir)\n",
    "    for i in tqdm(range(image.shape[0])):\n",
    "    \t#输出png文件目录\n",
    "        img_path = \"dcm_2_png/img_\" + str(i).rjust(4, '0') + \"_i.png\"\n",
    "        org_img =image[i]*20\n",
    "        # 保存图像数组\n",
    "        cv2.imwrite(img_path, org_img )\n",
    "\n"
   ]
  },
  {
   "cell_type": "code",
   "execution_count": 3,
   "metadata": {},
   "outputs": [],
   "source": [
    "import os\n",
    "import SimpleITK\n",
    "import pydicom\n",
    "import numpy as np\n",
    "import cv2\n",
    "def read_single_dcm(dcm_root, png_root):\n",
    "    \"\"\"\n",
    "    Read a single DICOM file and convert it to a PNG image, saving it to the specified PNG root directory.\n",
    "\n",
    "    Args:\n",
    "        dcm_root (str): Path to the DICOM file.\n",
    "        png_root (str): Path to the directory where the converted PNG image should be saved.\n",
    "\n",
    "    Returns:\n",
    "        None\n",
    "    \"\"\"\n",
    "\n",
    "    if not os.path.exists(png_root):\n",
    "        os.makedirs(png_root)\n",
    "\n",
    "    # Read the DICOM file\n",
    "    dcm_data = pydicom.read_file(dcm_root)\n",
    "\n",
    "    # Extract pixel data\n",
    "    pixel_data = dcm_data.pixel_array\n",
    "\n",
    "    # Rescale pixel data to 0-255 range\n",
    "    if dcm_data.PhotometricInterpretation == 'Monochrome2':\n",
    "        pixel_data = (pixel_data - pixel_data.min()) / (pixel_data.max() - pixel_data.min()) * 255\n",
    "    else:\n",
    "        pixel_data = pixel_data.astype(np.uint8)\n",
    "\n",
    "    # Convert to grayscale image if needed\n",
    "    if dcm_data.SamplesPerPixel == 3:\n",
    "        pixel_data = cv2.cvtColor(pixel_data, cv2.COLOR_BGR2GRAY)\n",
    "\n",
    "    # Get filename without extension\n",
    "    filename, ext = os.path.splitext(os.path.basename(dcm_root))\n",
    "\n",
    "    # Save the image as PNG\n",
    "    cv2.imwrite(os.path.join(png_root, filename + '.png'), pixel_data)\n",
    "\n"
   ]
  },
  {
   "cell_type": "code",
   "execution_count": 8,
   "metadata": {},
   "outputs": [
    {
     "name": "stdout",
     "output_type": "stream",
     "text": [
      "this is a standard dcmi file!\n"
     ]
    }
   ],
   "source": [
    "dcm_root = '..\\\\Data\\\\LIDC-IDRI-0001\\\\1.3.6.1.4.1.14519.5.2.1.6279.6001.298806137288633453246975630178\\\\000000\\\\000069.dcm'\n",
    "png_root = '../Png'\n",
    "if is_dicom_file(dcm_root):\n",
    "    print(\"this is a standard dcmi file!\")\n",
    "else:\n",
    "    print(\"this not a dcmi file!\")\n",
    "# read_single_dcm(dcm_root,png_root)\n",
    "dcm_data = pydicom.read_file(dcm_root)\n"
   ]
  },
  {
   "cell_type": "code",
   "execution_count": 14,
   "metadata": {},
   "outputs": [
    {
     "name": "stdout",
     "output_type": "stream",
     "text": [
      "Dataset has windowing\n"
     ]
    }
   ],
   "source": [
    "# print(dcm_data)\n",
    "# from pydicom import dcmread\n",
    "from pydicom.pixel_data_handlers.util import apply_voi_lut\n",
    "\n",
    "# ds = dcmread(file)\n",
    "if 'WindowWidth' in dcm_data:\n",
    "    print('Dataset has windowing')\n",
    "\n",
    "windowed = apply_voi_lut(dcm_data.pixel_array, dcm_data)"
   ]
  },
  {
   "cell_type": "code",
   "execution_count": 23,
   "metadata": {},
   "outputs": [
    {
     "data": {
      "text/plain": [
       "(-1024, 2378)"
      ]
     },
     "execution_count": 23,
     "metadata": {},
     "output_type": "execute_result"
    }
   ],
   "source": [
    "dcm_data.pixel_array.min(),dcm_data.pixel_array.max()"
   ]
  },
  {
   "cell_type": "code",
   "execution_count": 24,
   "metadata": {},
   "outputs": [
    {
     "name": "stdout",
     "output_type": "stream",
     "text": [
      "Window Center: -600, Window Width: 1600\n"
     ]
    }
   ],
   "source": [
    "window_center = dcm_data['WindowCenter'].value\n",
    "window_width = dcm_data['WindowWidth'].value\n",
    "print(f\"Window Center: {window_center}, Window Width: {window_width}\")"
   ]
  },
  {
   "cell_type": "code",
   "execution_count": 22,
   "metadata": {},
   "outputs": [
    {
     "data": {
      "text/plain": [
       "(-18381.643527204502, 31743.0)"
      ]
     },
     "execution_count": 22,
     "metadata": {},
     "output_type": "execute_result"
    }
   ],
   "source": [
    "windowed.min(),windowed.max()\n"
   ]
  },
  {
   "cell_type": "code",
   "execution_count": 18,
   "metadata": {},
   "outputs": [
    {
     "name": "stdout",
     "output_type": "stream",
     "text": [
      "(512, 512)\n"
     ]
    }
   ],
   "source": [
    "print(windowed.shape)"
   ]
  },
  {
   "cell_type": "code",
   "execution_count": 60,
   "metadata": {},
   "outputs": [],
   "source": [
    "def linear_reflection(dcm_data):\n",
    "  \"\"\"\n",
    "  Performs linear reflection on a DICOM image and returns the reflected pixel array.\n",
    "\n",
    "  Args:\n",
    "      dcm_data (pydicom.Dataset): The DICOM data object.\n",
    "\n",
    "  Returns:\n",
    "      np.ndarray: The reflected image data as a NumPy array.\n",
    "  \"\"\"\n",
    "  # Get slope and intercept values (if available)\n",
    "# These are typically used for HU to intensity conversion\n",
    "  try:\n",
    "    slope = dcm_data.RescaleSlope\n",
    "    intercept = dcm_data.RescaleIntercept\n",
    "  except AttributeError:\n",
    "    print(\"Warning: RescaleSlope or RescaleIntercept not found in DICOM data. Using default values.\")\n",
    "    slope = 1  # Default assumption\n",
    "    intercept = 0  # Default assumption\n",
    "\n",
    "  window_center = dcm_data['WindowCenter'].value\n",
    "  window_width = dcm_data['WindowWidth'].value\n",
    "\n",
    "  dcm_array = dcm_data.pixel_array\n",
    "  a = (256/window_width)*slope\n",
    "  b = 128-(256*window_center)/window_width+a*intercept\n",
    "\n",
    "\n",
    "  # Apply reflection (assuming grayscale image data)\n",
    "  reflected_array = dcm_array.copy()  # Create a copy to avoid modifying original data\n",
    "  reflected_array = np.vectorize(reflected_linear)(a, b, dcm_array)\n",
    "\n",
    "  return reflected_array\n",
    "\n",
    "def reflected_linear(a,b,x):\n",
    "    return a*x+b\n"
   ]
  },
  {
   "cell_type": "code",
   "execution_count": 68,
   "metadata": {},
   "outputs": [],
   "source": [
    "def read_single_dcm(dcm_root, png_root):\n",
    "  \"\"\"\n",
    "  Read a single DICOM file, convert it to a PNG image with linear reflection, \n",
    "  and save it to the specified PNG root directory.\n",
    "\n",
    "  Args:\n",
    "      dcm_root (str): Path to the DICOM file.\n",
    "      png_root (str): Path to the directory where the converted PNG image should be saved.\n",
    "\n",
    "  Returns:\n",
    "      None\n",
    "  \"\"\"\n",
    "\n",
    "  if not os.path.exists(png_root):\n",
    "    os.makedirs(png_root)\n",
    "\n",
    "  # Check if the file is a DICOM using your custom function\n",
    "  if not is_dicom_file(dcm_root):\n",
    "    print(f\"Error: '{dcm_root}' is not a DICOM file. Skipping.\")\n",
    "    return\n",
    "\n",
    "  # Read the DICOM file\n",
    "  try:\n",
    "    dcm_data = pydicom.read_file(dcm_root)\n",
    "  except FileNotFoundError:\n",
    "    print(f\"Error: DICOM file '{dcm_root}' not found. Skipping.\")\n",
    "    return\n",
    "  \n",
    "  try:\n",
    "    slope = dcm_data.RescaleSlope\n",
    "    intercept = dcm_data.RescaleIntercept\n",
    "  except AttributeError:\n",
    "    print(\"Warning: RescaleSlope or RescaleIntercept not found in DICOM data. Using default values.\")\n",
    "    slope = 1  # Default assumption\n",
    "    intercept = 0  # Default assumption\n",
    "  \n",
    "  print(slope,intercept)\n",
    "  \n",
    "  data_array = dcm_data.pixel_array\n",
    "  data_array = data_array * slope + intercept\n",
    "  \n",
    "  # Apply linear reflection (assuming grayscale image data)\n",
    "  # reflected_array = linear_reflection(dcm_data)\n",
    "  reflected_array = apply_voi_lut(data_array,dcm_data)\n",
    "\n",
    "  reflected_array = reflected_array.astype(np.uint8)  # Convert to uint8 for color data\n",
    "\n",
    "  # Get filename without extension\n",
    "  filename, _ = os.path.splitext(os.path.basename(dcm_root))\n",
    "\n",
    "  # Save the image as PNG\n",
    "  cv2.imwrite(os.path.join(png_root, filename + '.png'), reflected_array)\n"
   ]
  },
  {
   "cell_type": "code",
   "execution_count": 69,
   "metadata": {},
   "outputs": [
    {
     "name": "stdout",
     "output_type": "stream",
     "text": [
      "1 -1024\n"
     ]
    }
   ],
   "source": [
    "dcm_root = '..\\\\Data\\\\LIDC-IDRI-0001\\\\1.3.6.1.4.1.14519.5.2.1.6279.6001.298806137288633453246975630178\\\\000000\\\\000069.dcm'\n",
    "png_root = '../Png'\n",
    "\n",
    "read_single_dcm(dcm_root,png_root)"
   ]
  },
  {
   "cell_type": "code",
   "execution_count": 62,
   "metadata": {},
   "outputs": [],
   "source": [
    "# 应用VOI LUT（如果存在）\n",
    "ds = pydicom.read_file(dcm_root)\n",
    "if hasattr(ds, 'VOILUTSequence'):\n",
    "    data = pydicom.apply_voi_lut(ds.pixel_array, ds)\n",
    "    print(\"apply voi\")\n",
    "else:\n",
    "    data = ds.pixel_array\n",
    "\n",
    "# 归一化像素值到0-255范围\n",
    "data = data - np.min(data)\n",
    "data = (data / np.max(data) * 255).astype(np.uint8)\n"
   ]
  },
  {
   "cell_type": "code",
   "execution_count": 63,
   "metadata": {},
   "outputs": [
    {
     "data": {
      "text/plain": [
       "True"
      ]
     },
     "execution_count": 63,
     "metadata": {},
     "output_type": "execute_result"
    }
   ],
   "source": [
    "cv2.imwrite('../Png/test.png',data)"
   ]
  },
  {
   "cell_type": "code",
   "execution_count": 71,
   "metadata": {},
   "outputs": [
    {
     "ename": "RuntimeError",
     "evalue": "Exception thrown in SimpleITK ImageFileWriter_Execute: D:\\a\\1\\sitk-build\\ITK\\Modules\\IO\\PNG\\src\\itkPNGImageIO.cxx:542:\nPNG supports unsigned char and unsigned short",
     "output_type": "error",
     "traceback": [
      "\u001b[1;31m---------------------------------------------------------------------------\u001b[0m",
      "\u001b[1;31mRuntimeError\u001b[0m                              Traceback (most recent call last)",
      "\u001b[1;32m~\\AppData\\Local\\Temp\\ipykernel_7716\\3918100302.py\u001b[0m in \u001b[0;36m?\u001b[1;34m()\u001b[0m\n\u001b[1;32m---> 20\u001b[1;33m \u001b[1;32mimport\u001b[0m \u001b[0mSimpleITK\u001b[0m \u001b[1;32mas\u001b[0m \u001b[0msitk\u001b[0m\u001b[1;33m\u001b[0m\u001b[1;33m\u001b[0m\u001b[0m\n\u001b[0m\u001b[0;32m     21\u001b[0m \u001b[1;33m\u001b[0m\u001b[0m\n\u001b[0;32m     22\u001b[0m \u001b[1;31m# Path to the DICOM file\u001b[0m\u001b[1;33m\u001b[0m\u001b[1;33m\u001b[0m\u001b[0m\n\u001b[0;32m     23\u001b[0m \u001b[0mdicom_file_path\u001b[0m \u001b[1;33m=\u001b[0m \u001b[0mdcm_root\u001b[0m\u001b[1;33m\u001b[0m\u001b[1;33m\u001b[0m\u001b[0m\n",
      "\u001b[1;32mc:\\Users\\Chun\\.conda\\envs\\open_cv\\lib\\site-packages\\SimpleITK\\extra.py\u001b[0m in \u001b[0;36m?\u001b[1;34m(image, fileName, useCompression, compressionLevel, imageIO, compressor)\u001b[0m\n\u001b[0;32m    421\u001b[0m     \u001b[0mwriter\u001b[0m\u001b[1;33m.\u001b[0m\u001b[0mSetUseCompression\u001b[0m\u001b[1;33m(\u001b[0m\u001b[0museCompression\u001b[0m\u001b[1;33m)\u001b[0m\u001b[1;33m\u001b[0m\u001b[1;33m\u001b[0m\u001b[0m\n\u001b[0;32m    422\u001b[0m     \u001b[0mwriter\u001b[0m\u001b[1;33m.\u001b[0m\u001b[0mSetCompressionLevel\u001b[0m\u001b[1;33m(\u001b[0m\u001b[0mcompressionLevel\u001b[0m\u001b[1;33m)\u001b[0m\u001b[1;33m\u001b[0m\u001b[1;33m\u001b[0m\u001b[0m\n\u001b[0;32m    423\u001b[0m     \u001b[0mwriter\u001b[0m\u001b[1;33m.\u001b[0m\u001b[0mSetImageIO\u001b[0m\u001b[1;33m(\u001b[0m\u001b[0mimageIO\u001b[0m\u001b[1;33m)\u001b[0m\u001b[1;33m\u001b[0m\u001b[1;33m\u001b[0m\u001b[0m\n\u001b[0;32m    424\u001b[0m     \u001b[0mwriter\u001b[0m\u001b[1;33m.\u001b[0m\u001b[0mSetCompressor\u001b[0m\u001b[1;33m(\u001b[0m\u001b[0mcompressor\u001b[0m\u001b[1;33m)\u001b[0m\u001b[1;33m\u001b[0m\u001b[1;33m\u001b[0m\u001b[0m\n\u001b[1;32m--> 425\u001b[1;33m     \u001b[1;32mreturn\u001b[0m \u001b[0mwriter\u001b[0m\u001b[1;33m.\u001b[0m\u001b[0mExecute\u001b[0m\u001b[1;33m(\u001b[0m\u001b[0mimage\u001b[0m\u001b[1;33m)\u001b[0m\u001b[1;33m\u001b[0m\u001b[1;33m\u001b[0m\u001b[0m\n\u001b[0m",
      "\u001b[1;32mc:\\Users\\Chun\\.conda\\envs\\open_cv\\lib\\site-packages\\SimpleITK\\SimpleITK.py\u001b[0m in \u001b[0;36m?\u001b[1;34m(self, *args)\u001b[0m\n\u001b[0;32m   7903\u001b[0m         \u001b[0mExecute\u001b[0m\u001b[1;33m(\u001b[0m\u001b[0mImageFileWriter\u001b[0m \u001b[0mself\u001b[0m\u001b[1;33m,\u001b[0m \u001b[0mImage\u001b[0m \u001b[0marg2\u001b[0m\u001b[1;33m,\u001b[0m \u001b[0mstd\u001b[0m\u001b[1;33m:\u001b[0m\u001b[1;33m:\u001b[0m\u001b[0mstring\u001b[0m \u001b[0mconst\u001b[0m \u001b[1;33m&\u001b[0m \u001b[0minFileName\u001b[0m\u001b[1;33m,\u001b[0m \u001b[0mbool\u001b[0m \u001b[0museCompression\u001b[0m\u001b[1;33m,\u001b[0m \u001b[0mint\u001b[0m \u001b[0mcompressionLevel\u001b[0m\u001b[1;33m)\u001b[0m\u001b[1;33m\u001b[0m\u001b[1;33m\u001b[0m\u001b[0m\n\u001b[0;32m   7904\u001b[0m \u001b[1;33m\u001b[0m\u001b[0m\n\u001b[0;32m   7905\u001b[0m \u001b[1;33m\u001b[0m\u001b[0m\n\u001b[0;32m   7906\u001b[0m         \"\"\"\n\u001b[1;32m-> 7907\u001b[1;33m         \u001b[1;32mreturn\u001b[0m \u001b[0m_SimpleITK\u001b[0m\u001b[1;33m.\u001b[0m\u001b[0mImageFileWriter_Execute\u001b[0m\u001b[1;33m(\u001b[0m\u001b[0mself\u001b[0m\u001b[1;33m,\u001b[0m \u001b[1;33m*\u001b[0m\u001b[0margs\u001b[0m\u001b[1;33m)\u001b[0m\u001b[1;33m\u001b[0m\u001b[1;33m\u001b[0m\u001b[0m\n\u001b[0m",
      "\u001b[1;31mRuntimeError\u001b[0m: Exception thrown in SimpleITK ImageFileWriter_Execute: D:\\a\\1\\sitk-build\\ITK\\Modules\\IO\\PNG\\src\\itkPNGImageIO.cxx:542:\nPNG supports unsigned char and unsigned short"
     ]
    }
   ],
   "source": [
    "import SimpleITK as sitk\n",
    "\n",
    "# Path to the DICOM file\n",
    "dicom_file_path = dcm_root\n",
    "import SimpleITK as sitk\n",
    "\n",
    "# Create an ImageReader object\n",
    "reader = sitk.ImageFileReader()\n",
    "\n",
    "# Set the DICOM file path to the reader\n",
    "reader.SetFileName(dicom_file_path)\n",
    "\n",
    "# Read the DICOM image (using a compatible method)\n",
    "image = reader.Execute()  # This method is available in most SimpleITK versions\n",
    "\n",
    "# Get the pixel array from the image\n",
    "img_array = sitk.GetArrayFromImage(image)\n",
    "\n",
    "# Save the image as a desired format (e.g., PNG, JPEG)\n",
    "sitk.WriteImage(sitk.Cast(image, sitk.sitkFloat32), \"output_image.png\")  # Replace 'output_image.png' with your desired output path and format\n"
   ]
  },
  {
   "cell_type": "code",
   "execution_count": 72,
   "metadata": {},
   "outputs": [],
   "source": [
    "file = sitk.ReadImage(dcm_root)\n",
    "pixel_array = sitk.GetArrayFromImage(file)\n"
   ]
  },
  {
   "cell_type": "code",
   "execution_count": 76,
   "metadata": {},
   "outputs": [
    {
     "name": "stderr",
     "output_type": "stream",
     "text": [
      "100%|██████████| 1/1 [00:00<00:00, 499.86it/s]\n"
     ]
    }
   ],
   "source": [
    "for i in tqdm(range(pixel_array.shape[0])):\n",
    "    \t#输出png文件目录\n",
    "        img_path = \"./img_\" + str(i).rjust(4, '0') + \".png\"\n",
    "        org_img =pixel_array[i]\n",
    "        # 保存图像数组\n",
    "        cv2.imwrite(img_path, org_img )"
   ]
  },
  {
   "cell_type": "code",
   "execution_count": null,
   "metadata": {},
   "outputs": [],
   "source": []
  }
 ],
 "metadata": {
  "kernelspec": {
   "display_name": "open_cv",
   "language": "python",
   "name": "python3"
  },
  "language_info": {
   "codemirror_mode": {
    "name": "ipython",
    "version": 3
   },
   "file_extension": ".py",
   "mimetype": "text/x-python",
   "name": "python",
   "nbconvert_exporter": "python",
   "pygments_lexer": "ipython3",
   "version": "3.9.19"
  }
 },
 "nbformat": 4,
 "nbformat_minor": 2
}
